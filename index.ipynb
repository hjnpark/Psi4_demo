{
 "cells": [
  {
   "cell_type": "markdown",
   "id": "178f1678-beea-4154-b4ef-b18d71c40dfe",
   "metadata": {},
   "source": [
    "# Psi4 Demonstrations\n",
    "\n",
    "* [Singlepoint energy calculations and potentia curve](./singlepoint.ipynb)\n",
    "* [Optimization and visualizing molecular orbitals](./optimization.ipynb)\n",
    "* [Vibrational analysis](./vibrational.ipynb)\n",
    "* [Transition state optimization and Intrinsic Reaction Coordinate](./TS.ipynb)"
   ]
  }
 ],
 "metadata": {
  "kernelspec": {
   "display_name": "Python 3 (ipykernel)",
   "language": "python",
   "name": "python3"
  },
  "language_info": {
   "codemirror_mode": {
    "name": "ipython",
    "version": 3
   },
   "file_extension": ".py",
   "mimetype": "text/x-python",
   "name": "python",
   "nbconvert_exporter": "python",
   "pygments_lexer": "ipython3",
   "version": "3.9.16"
  }
 },
 "nbformat": 4,
 "nbformat_minor": 5
}
