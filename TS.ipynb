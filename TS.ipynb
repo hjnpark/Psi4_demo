{
 "cells": [
  {
   "cell_type": "code",
   "execution_count": null,
   "id": "4bd9a481-e9ce-4907-a55b-d6f640c90f11",
   "metadata": {},
   "outputs": [],
   "source": [
    "import psi4\n",
    "import fortecubeview as vis\n",
    "import glob"
   ]
  },
  {
   "cell_type": "markdown",
   "id": "456bfdee-13bb-43d1-b9d2-d3743f11d020",
   "metadata": {},
   "source": [
    "## Vibrational frequency analysis can be used to verify a transition state structure.\n",
    "## Here, we have a rough guess of a transition state structure of CNH -> HCN reaction."
   ]
  },
  {
   "cell_type": "code",
   "execution_count": null,
   "id": "3c962193-8c82-409e-ad92-db654a3973cb",
   "metadata": {},
   "outputs": [],
   "source": [
    "psi4.set_memory('500 MB')\n",
    "\n",
    "CNH  = \"\"\"\n",
    "      0 1 \n",
    "      C  0.0  0.0  0.0 \n",
    "      N  0.0  1.16  0.0\n",
    "      H  0.0  0.5  1.0\n",
    "      \"\"\"\n",
    "vis.geom(xyz=CNH)"
   ]
  },
  {
   "cell_type": "markdown",
   "id": "52c8d2b6-d35f-486c-9282-d8d0b766cc4d",
   "metadata": {},
   "source": [
    "## We will optimize it first and obtain vibrational modes."
   ]
  },
  {
   "cell_type": "code",
   "execution_count": null,
   "id": "3ef17d22-181d-4a21-9877-09ea05afa993",
   "metadata": {},
   "outputs": [],
   "source": [
    "TS = psi4.geometry(CNH)\n",
    "psi4.core.set_output_file('TSoptimization.out')\n",
    "psi4.set_options({'basis': '6-31g',\n",
    "                  'reference': 'rhf',\n",
    "                  'opt_type':'TS'})\n",
    "energy, wfn = psi4.optimize('scf', molecule = TS,return_wfn = True)\n",
    "print('Energy of the optimized water is %.7f' %energy)\n",
    "vis.geom(molecule = TS)"
   ]
  },
  {
   "cell_type": "code",
   "execution_count": null,
   "id": "3191275c-5cee-42ea-acee-ae0a5f8fbcf0",
   "metadata": {
    "tags": []
   },
   "outputs": [],
   "source": [
    "psi4.set_options({\"normal_modes_write \":True,\n",
    "                  \"writer_file_label\":\"CNH\"})\n",
    "psi4.core.set_output_file('vib.out')\n",
    "E, wfn = psi4.frequency('scf', molecule=TS, return_wfn=True)\n",
    "\n",
    "freqs = [x for x in wfn.frequencies().np[:]]\n",
    "print(\"The three normal mode vibrational frequencies are %.2f cm-1, %.2f cm-1, and %.2f cm-1\" %(freqs[0], freqs[1], freqs[2]))"
   ]
  },
  {
   "cell_type": "markdown",
   "id": "e597470e-9bc2-4862-ac3c-e8e0977c8cd9",
   "metadata": {},
   "source": [
    "## One imaginary frequency confirms that the molecule is located at a saddle point.\n",
    "## Visualized vector of that imaginary frequency shows a direction to one of the two energy minima."
   ]
  },
  {
   "cell_type": "code",
   "execution_count": null,
   "id": "c4aff999-97e7-4cf3-9e9c-30fbdf0c3016",
   "metadata": {
    "tags": []
   },
   "outputs": [],
   "source": [
    "vis.vib(glob.glob('CNH.*.molden_normal_modes')[-1])"
   ]
  },
  {
   "cell_type": "markdown",
   "id": "9b117c59-cde5-4f47-b170-b70c14231d8f",
   "metadata": {},
   "source": [
    "## Intrinsic reaction coordinate (IRC) method can be used to connect the transition state structure and either product or reactant \n",
    "## Optking can perfrom the IRC as well([Psi4/Optking manual](https://psicode.org/psi4manual/master/autodir_options_c/module__optking.html))."
   ]
  },
  {
   "cell_type": "code",
   "execution_count": null,
   "id": "4ed14a7e-da96-4b1b-b984-154a18fa68f2",
   "metadata": {},
   "outputs": [],
   "source": [
    "directions = [\"forward\", \"backward\"]\n",
    "mol_info = TS.to_dict('psi4') # Save molecule information of the TS structure.\n",
    "\n",
    "for direction in directions:\n",
    "    print(\"IRC %s direction started\" %direction)\n",
    "    M = psi4.core.Molecule.from_dict(mol_info) # Define a molecule object based on the info saved previously.\n",
    "    psi4.set_options({\n",
    "        \"opt_type\":\"IRC\",\n",
    "        \"irc_direction\":direction,\n",
    "        \"irc_step_size\":0.1,\n",
    "        \"geom_maxiter\": 100})\n",
    "    psi4.optimize(\"SCF\", molecule = M)\n",
    "\n"
   ]
  },
  {
   "cell_type": "markdown",
   "id": "5d00c1cb-4bed-45a6-9e52-1c1ed0303cff",
   "metadata": {},
   "source": [
    "## Psi4 generated `irc_forward.xyz` and `irc_backward.xyz` files. You can visualize those using VMD."
   ]
  }
 ],
 "metadata": {
  "kernelspec": {
   "display_name": "Python 3 (ipykernel)",
   "language": "python",
   "name": "python3"
  },
  "language_info": {
   "codemirror_mode": {
    "name": "ipython",
    "version": 3
   },
   "file_extension": ".py",
   "mimetype": "text/x-python",
   "name": "python",
   "nbconvert_exporter": "python",
   "pygments_lexer": "ipython3",
   "version": "3.9.16"
  }
 },
 "nbformat": 4,
 "nbformat_minor": 5
}
