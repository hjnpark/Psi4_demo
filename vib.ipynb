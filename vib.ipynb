{
 "cells": [
  {
   "cell_type": "code",
   "execution_count": 1,
   "id": "66279296-9585-499e-a695-44b473cc7c5a",
   "metadata": {},
   "outputs": [],
   "source": [
    "import psi4\n",
    "import fortecubeview as vis\n",
    "import matplotlib.pyplot as plt"
   ]
  },
  {
   "cell_type": "markdown",
   "id": "dffbe30c-4289-40d3-bc78-95387ad0aacb",
   "metadata": {},
   "source": [
    "## Let's analyze vibrational modes of a water molecule."
   ]
  },
  {
   "cell_type": "code",
   "execution_count": 2,
   "id": "ea4d41da-f7a9-4ac8-b9a5-af5c39bc68ca",
   "metadata": {},
   "outputs": [
    {
     "name": "stdout",
     "output_type": "stream",
     "text": [
      "\tSearching PubChem database for water (single best match returned)\n",
      "\tFound 1 result(s)\n"
     ]
    },
    {
     "data": {
      "application/vnd.jupyter.widget-view+json": {
       "model_id": "393dbaaa60334ba1ad826e4640aaa3c8",
       "version_major": 2,
       "version_minor": 0
      },
      "text/plain": [
       "Renderer(camera=OrthographicCamera(bottom=-5.0, children=(DirectionalLight(color='white', intensity=0.5, posit…"
      ]
     },
     "metadata": {},
     "output_type": "display_data"
    },
    {
     "data": {
      "text/plain": [
       "<fortecubeview.mol_viewer.MolViewer at 0x7f42d1354280>"
      ]
     },
     "execution_count": 2,
     "metadata": {},
     "output_type": "execute_result"
    }
   ],
   "source": [
    "h2o = psi4.geometry(\"\"\"\n",
    "        pubchem:water  \n",
    "\"\"\")\n",
    "\n",
    "vis.geom(molecule=h2o)\n"
   ]
  },
  {
   "cell_type": "markdown",
   "id": "843168e1-6a24-42a4-a41e-4e7c922c67a8",
   "metadata": {},
   "source": [
    "## We can analyze its vibrational modes."
   ]
  },
  {
   "cell_type": "code",
   "execution_count": 3,
   "id": "9d85195e-6d9b-4267-b905-d960ea5c0745",
   "metadata": {},
   "outputs": [
    {
     "name": "stdout",
     "output_type": "stream",
     "text": [
      "Optimizer: Optimization complete!\n",
      "[1737.37832659 3987.62714654 4144.46674622]\n"
     ]
    }
   ],
   "source": [
    "psi4.set_options({\"normal_modes_write \":True,\n",
    "                  \"writer_file_label\":\"test\"})\n",
    "psi4.core.set_output_file('vib.out')\n",
    "psi4.optimize('hf/6-31g', molecule = h2o)\n",
    "E, wfn = psi4.frequency('hf/6-31g', molecule=h2o, return_wfn=True)\n",
    "print(wfn.frequencies().np[:])\n"
   ]
  },
  {
   "cell_type": "code",
   "execution_count": 4,
   "id": "8ca20d5c-7d0b-40c4-bdbb-be446e7fa23e",
   "metadata": {},
   "outputs": [
    {
     "data": {
      "text/plain": [
       "<matplotlib.colorbar.Colorbar at 0x7f4243835580>"
      ]
     },
     "execution_count": 4,
     "metadata": {},
     "output_type": "execute_result"
    },
    {
     "data": {
      "image/png": "[encoded data removed]",
      "text/plain": [
       "<Figure size 640x480 with 2 Axes>"
      ]
     },
     "metadata": {},
     "output_type": "display_data"
    }
   ],
   "source": [
    "\n",
    "H, wfn = psi4.hessian('hf/6-31g', return_wfn = True)\n",
    "plt.imshow(H.np[:])\n",
    "plt.colorbar()"
   ]
  },
  {
   "cell_type": "code",
   "execution_count": 5,
   "id": "26908a01-a28f-4faa-803b-386f1ee399ae",
   "metadata": {},
   "outputs": [
    {
     "data": {
      "application/vnd.jupyter.widget-view+json": {
       "model_id": "0e91ff561ed8491f871954fab2c9bbf5",
       "version_major": 2,
       "version_minor": 0
      },
      "text/plain": [
       "VBox(children=(HTML(value='<div align=\"center\" style=\"font-size:16px;font-family:Helvetica;font-weight: bold;\"…"
      ]
     },
     "metadata": {},
     "output_type": "display_data"
    },
    {
     "data": {
      "application/vnd.jupyter.widget-view+json": {
       "model_id": "971ca7f1a512400ba3aef2174327de4e",
       "version_major": 2,
       "version_minor": 0
      },
      "text/plain": [
       "HTML(value='\\n        <style>\\n           .jupyter-widgets-output-area .output_scroll {\\n                heigh…"
      ]
     },
     "metadata": {},
     "output_type": "display_data"
    },
    {
     "data": {
      "application/vnd.jupyter.widget-view+json": {
       "model_id": "1196dd42467846f48e6bfe3afe950cc4",
       "version_major": 2,
       "version_minor": 0
      },
      "text/plain": [
       "interactive(children=(Select(description='Select:', options=('1: Normal mode (1737.4 cm^-1)', '2: Normal mode …"
      ]
     },
     "metadata": {},
     "output_type": "display_data"
    },
    {
     "data": {
      "text/plain": [
       "<fortecubeview.vib_viewer.VibViewer at 0x7f424373e670>"
      ]
     },
     "execution_count": 5,
     "metadata": {},
     "output_type": "execute_result"
    }
   ],
   "source": [
    "vis.vib('test.222640.molden_normal_modes')"
   ]
  },
  {
   "cell_type": "code",
   "execution_count": null,
   "id": "b1071ab4-6afa-48a0-8cfa-f1669f3eb186",
   "metadata": {},
   "outputs": [],
   "source": []
  }
 ],
 "metadata": {
  "kernelspec": {
   "display_name": "Python 3 (ipykernel)",
   "language": "python",
   "name": "python3"
  },
  "language_info": {
   "codemirror_mode": {
    "name": "ipython",
    "version": 3
   },
   "file_extension": ".py",
   "mimetype": "text/x-python",
   "name": "python",
   "nbconvert_exporter": "python",
   "pygments_lexer": "ipython3",
   "version": "3.9.16"
  }
 },
 "nbformat": 4,
 "nbformat_minor": 5
}
