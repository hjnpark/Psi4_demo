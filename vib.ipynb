{
 "cells": [
  {
   "cell_type": "code",
   "execution_count": 1,
   "id": "66279296-9585-499e-a695-44b473cc7c5a",
   "metadata": {},
   "outputs": [],
   "source": [
    "import psi4\n",
    "import fortecubeview as vis\n",
    "import glob"
   ]
  },
  {
   "cell_type": "markdown",
   "id": "dffbe30c-4289-40d3-bc78-95387ad0aacb",
   "metadata": {},
   "source": [
    "## 1. Normal modes of vibration\n",
    "### Let's analyze vibrational modes of a water molecule."
   ]
  },
  {
   "cell_type": "code",
   "execution_count": 2,
   "id": "ea4d41da-f7a9-4ac8-b9a5-af5c39bc68ca",
   "metadata": {},
   "outputs": [
    {
     "name": "stdout",
     "output_type": "stream",
     "text": [
      "\tSearching PubChem database for water (single best match returned)\n",
      "\n",
      "  Memory set to 476.837 MiB by Python driver.\n",
      "\tFound 1 result(s)\n"
     ]
    },
    {
     "data": {
      "application/vnd.jupyter.widget-view+json": {
       "model_id": "02b63af7c2d64f1b8054877552284093",
       "version_major": 2,
       "version_minor": 0
      },
      "text/plain": [
       "Renderer(camera=OrthographicCamera(bottom=-5.0, children=(DirectionalLight(color='white', intensity=0.5, posit…"
      ]
     },
     "metadata": {},
     "output_type": "display_data"
    },
    {
     "data": {
      "text/plain": [
       "<fortecubeview.mol_viewer.MolViewer at 0x7f086c448670>"
      ]
     },
     "execution_count": 2,
     "metadata": {},
     "output_type": "execute_result"
    }
   ],
   "source": [
    "psi4.set_memory('500 MB')\n",
    "\n",
    "h2o = psi4.geometry(\"\"\"\n",
    "        pubchem:water  \n",
    "\"\"\")\n",
    "\n",
    "vis.geom(molecule=h2o)\n"
   ]
  },
  {
   "cell_type": "markdown",
   "id": "843168e1-6a24-42a4-a41e-4e7c922c67a8",
   "metadata": {},
   "source": [
    "## We will first optimize the water molecule and analyze its vibrational modes."
   ]
  },
  {
   "cell_type": "code",
   "execution_count": 3,
   "id": "9d85195e-6d9b-4267-b905-d960ea5c0745",
   "metadata": {},
   "outputs": [
    {
     "name": "stdout",
     "output_type": "stream",
     "text": [
      "Optimizer: Optimization complete!\n",
      "The three normal mode vibrational frequencies are 1737.38 cm-1, 3987.63 cm-1, and 4144.47 cm-1\n"
     ]
    }
   ],
   "source": [
    "psi4.set_options({'basis': '6-31g',\n",
    "                  'reference': 'rhf'})\n",
    "psi4.core.set_output_file('vib.out')\n",
    "psi4.optimize('scf', molecule = h2o)\n",
    "\n",
    "psi4.set_options({\"normal_modes_write \":True,\n",
    "                  \"writer_file_label\":\"H2O\"})\n",
    "E, wfn = psi4.frequency('scf', molecule=h2o, return_wfn=True)\n",
    "\n",
    "freqs = [x for x in wfn.frequencies().np[:]]\n",
    "print(\"The three normal mode vibrational frequencies are %.2f cm-1, %.2f cm-1, and %.2f cm-1\" %(freqs[0], freqs[1], freqs[2]))\n"
   ]
  },
  {
   "cell_type": "markdown",
   "id": "9d89b8a1-2f53-4500-8934-604e658e2042",
   "metadata": {},
   "source": [
    "## Visualized vectors of the each vibrational mode"
   ]
  },
  {
   "cell_type": "code",
   "execution_count": 4,
   "id": "26908a01-a28f-4faa-803b-386f1ee399ae",
   "metadata": {},
   "outputs": [
    {
     "data": {
      "application/vnd.jupyter.widget-view+json": {
       "model_id": "42ef77a3006147e4b88230f9e4510cbb",
       "version_major": 2,
       "version_minor": 0
      },
      "text/plain": [
       "VBox(children=(HTML(value='<div align=\"center\" style=\"font-size:16px;font-family:Helvetica;font-weight: bold;\"…"
      ]
     },
     "metadata": {},
     "output_type": "display_data"
    },
    {
     "data": {
      "application/vnd.jupyter.widget-view+json": {
       "model_id": "0046a154a0074c379ecb4a98839b9bb7",
       "version_major": 2,
       "version_minor": 0
      },
      "text/plain": [
       "HTML(value='\\n        <style>\\n           .jupyter-widgets-output-area .output_scroll {\\n                heigh…"
      ]
     },
     "metadata": {},
     "output_type": "display_data"
    },
    {
     "data": {
      "application/vnd.jupyter.widget-view+json": {
       "model_id": "8c4a42ec66764cac97958761291acba4",
       "version_major": 2,
       "version_minor": 0
      },
      "text/plain": [
       "interactive(children=(Select(description='Select:', options=('1: Normal mode (1737.4 cm^-1)', '2: Normal mode …"
      ]
     },
     "metadata": {},
     "output_type": "display_data"
    },
    {
     "data": {
      "text/plain": [
       "<fortecubeview.vib_viewer.VibViewer at 0x7f07e3bff790>"
      ]
     },
     "execution_count": 4,
     "metadata": {},
     "output_type": "execute_result"
    }
   ],
   "source": [
    "vis.vib(glob.glob('H2O.*.molden_normal_modes')[-1])"
   ]
  }
 ],
 "metadata": {
  "kernelspec": {
   "display_name": "Python 3 (ipykernel)",
   "language": "python",
   "name": "python3"
  },
  "language_info": {
   "codemirror_mode": {
    "name": "ipython",
    "version": 3
   },
   "file_extension": ".py",
   "mimetype": "text/x-python",
   "name": "python",
   "nbconvert_exporter": "python",
   "pygments_lexer": "ipython3",
   "version": "3.9.16"
  }
 },
 "nbformat": 4,
 "nbformat_minor": 5
}
