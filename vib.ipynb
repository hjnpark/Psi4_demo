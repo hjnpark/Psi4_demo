{
 "cells": [
  {
   "cell_type": "code",
   "execution_count": 1,
   "id": "66279296-9585-499e-a695-44b473cc7c5a",
   "metadata": {},
   "outputs": [],
   "source": [
    "import psi4\n",
    "import fortecubeview as vis\n",
    "import matplotlib.pyplot as plt\n",
    "import glob"
   ]
  },
  {
   "cell_type": "markdown",
   "id": "dffbe30c-4289-40d3-bc78-95387ad0aacb",
   "metadata": {},
   "source": [
    "## 1. Normal modes of vibration\n",
    "### Let's analyze vibrational modes of a water molecule."
   ]
  },
  {
   "cell_type": "code",
   "execution_count": 2,
   "id": "ea4d41da-f7a9-4ac8-b9a5-af5c39bc68ca",
   "metadata": {},
   "outputs": [
    {
     "name": "stdout",
     "output_type": "stream",
     "text": [
      "\tSearching PubChem database for water (single best match returned)\n",
      "\tFound 1 result(s)\n"
     ]
    },
    {
     "data": {
      "application/vnd.jupyter.widget-view+json": {
       "model_id": "594991c96bcd4381a2401fe8d5bc2141",
       "version_major": 2,
       "version_minor": 0
      },
      "text/plain": [
       "Renderer(camera=OrthographicCamera(bottom=-5.0, children=(DirectionalLight(color='white', intensity=0.5, posit…"
      ]
     },
     "metadata": {},
     "output_type": "display_data"
    },
    {
     "data": {
      "text/plain": [
       "<fortecubeview.mol_viewer.MolViewer at 0x7f7e9579f670>"
      ]
     },
     "execution_count": 2,
     "metadata": {},
     "output_type": "execute_result"
    }
   ],
   "source": [
    "h2o = psi4.geometry(\"\"\"\n",
    "        pubchem:water  \n",
    "\"\"\")\n",
    "\n",
    "vis.geom(molecule=h2o)\n"
   ]
  },
  {
   "cell_type": "markdown",
   "id": "843168e1-6a24-42a4-a41e-4e7c922c67a8",
   "metadata": {},
   "source": [
    "## We will first optimize the water molecule and analyze its vibrational modes."
   ]
  },
  {
   "cell_type": "code",
   "execution_count": 3,
   "id": "9d85195e-6d9b-4267-b905-d960ea5c0745",
   "metadata": {},
   "outputs": [
    {
     "name": "stdout",
     "output_type": "stream",
     "text": [
      "Optimizer: Optimization complete!\n",
      "[1737.37832659 3987.62714654 4144.46674622]\n"
     ]
    }
   ],
   "source": [
    "psi4.core.set_output_file('vib.out')\n",
    "psi4.optimize('hf/6-31g', molecule = h2o)\n",
    "# We can set options to write an output file with details from the vibrational analysis\n",
    "psi4.set_options({\"normal_modes_write \":True,\n",
    "                  \"writer_file_label\":\"H2O\"})\n",
    "E, wfn = psi4.frequency('hf/6-31g', molecule=h2o, return_wfn=True)\n",
    "print(wfn.frequencies().np[:])\n"
   ]
  },
  {
   "cell_type": "markdown",
   "id": "9d89b8a1-2f53-4500-8934-604e658e2042",
   "metadata": {},
   "source": [
    "## Visualized vectors of the each vibrational mode"
   ]
  },
  {
   "cell_type": "code",
   "execution_count": 4,
   "id": "26908a01-a28f-4faa-803b-386f1ee399ae",
   "metadata": {},
   "outputs": [
    {
     "data": {
      "application/vnd.jupyter.widget-view+json": {
       "model_id": "0e66c0bd2ac243ffaefb37a21c39e9e7",
       "version_major": 2,
       "version_minor": 0
      },
      "text/plain": [
       "VBox(children=(HTML(value='<div align=\"center\" style=\"font-size:16px;font-family:Helvetica;font-weight: bold;\"…"
      ]
     },
     "metadata": {},
     "output_type": "display_data"
    },
    {
     "data": {
      "application/vnd.jupyter.widget-view+json": {
       "model_id": "dbd4dfac7bba466a884d8b2d6d2f4f96",
       "version_major": 2,
       "version_minor": 0
      },
      "text/plain": [
       "HTML(value='\\n        <style>\\n           .jupyter-widgets-output-area .output_scroll {\\n                heigh…"
      ]
     },
     "metadata": {},
     "output_type": "display_data"
    },
    {
     "data": {
      "application/vnd.jupyter.widget-view+json": {
       "model_id": "6312df42ade9497a87f226c80bae01b5",
       "version_major": 2,
       "version_minor": 0
      },
      "text/plain": [
       "interactive(children=(Select(description='Select:', options=('1: Normal mode (1737.4 cm^-1)', '2: Normal mode …"
      ]
     },
     "metadata": {},
     "output_type": "display_data"
    },
    {
     "data": {
      "text/plain": [
       "<fortecubeview.vib_viewer.VibViewer at 0x7f7f0c3ab580>"
      ]
     },
     "execution_count": 4,
     "metadata": {},
     "output_type": "execute_result"
    }
   ],
   "source": [
    "vis.vib(glob.glob('H2O.*.molden_normal_modes')[0])"
   ]
  },
  {
   "cell_type": "markdown",
   "id": "5eea81ca-3181-4804-8b65-d9ef7a4dee6f",
   "metadata": {},
   "source": [
    "## Vibrational frequency analysis can be used to verify a transition state structure.\n",
    "## Here, we have a rough guess of a transition state structure of CNH -> HCN reaction."
   ]
  },
  {
   "cell_type": "code",
   "execution_count": 5,
   "id": "b1071ab4-6afa-48a0-8cfa-f1669f3eb186",
   "metadata": {},
   "outputs": [
    {
     "data": {
      "application/vnd.jupyter.widget-view+json": {
       "model_id": "89fa6f89d5224b3089bef18a1a9aa26d",
       "version_major": 2,
       "version_minor": 0
      },
      "text/plain": [
       "Renderer(camera=OrthographicCamera(bottom=-5.0, children=(DirectionalLight(color='white', intensity=0.5, posit…"
      ]
     },
     "metadata": {},
     "output_type": "display_data"
    },
    {
     "data": {
      "text/plain": [
       "<fortecubeview.mol_viewer.MolViewer at 0x7f7e8383c7c0>"
      ]
     },
     "execution_count": 5,
     "metadata": {},
     "output_type": "execute_result"
    }
   ],
   "source": [
    "CNH  = \"\"\"\n",
    "      0 1 \n",
    "      C  0.0  0.0  0.0 \n",
    "      N  0.0  1.16  0.0\n",
    "      H  0.0  0.6  1.0\n",
    "      \"\"\"\n",
    "vis.geom(xyz=CNH)"
   ]
  },
  {
   "cell_type": "markdown",
   "id": "03ada116-0549-4898-bf68-03606c66047a",
   "metadata": {},
   "source": [
    "## We will optimize it first and obtain vibrational modes."
   ]
  },
  {
   "cell_type": "code",
   "execution_count": 6,
   "id": "03b56ff0-8257-43a6-be58-5bf1c3f6b2ce",
   "metadata": {},
   "outputs": [
    {
     "name": "stdout",
     "output_type": "stream",
     "text": [
      "Optimizer: Optimization complete!\n",
      "Energy of the optimized water is -92.7236056\n"
     ]
    }
   ],
   "source": [
    "M = psi4.geometry(CNH)\n",
    "psi4.core.set_output_file('TSoptimization.out')\n",
    "psi4.set_options({'opt_type':'TS',\n",
    "                  'maxiter':'100'})\n",
    "energy, wfn = psi4.optimize('hf/6-31g', molecule = M,return_wfn = True)\n",
    "print('Energy of the optimized water is %.7f' %energy)"
   ]
  },
  {
   "cell_type": "code",
   "execution_count": 7,
   "id": "47e1d794-17d6-4ce3-9f65-72b9f03a9cbb",
   "metadata": {},
   "outputs": [
    {
     "data": {
      "application/vnd.jupyter.widget-view+json": {
       "model_id": "dff4ae2d14d74ccea76644ae66c8dd15",
       "version_major": 2,
       "version_minor": 0
      },
      "text/plain": [
       "Renderer(camera=OrthographicCamera(bottom=-5.0, children=(DirectionalLight(color='white', intensity=0.5, posit…"
      ]
     },
     "metadata": {},
     "output_type": "display_data"
    },
    {
     "data": {
      "text/plain": [
       "<fortecubeview.mol_viewer.MolViewer at 0x7f7e83762220>"
      ]
     },
     "execution_count": 7,
     "metadata": {},
     "output_type": "execute_result"
    }
   ],
   "source": [
    "vis.geom(molecule = M)"
   ]
  },
  {
   "cell_type": "code",
   "execution_count": 8,
   "id": "77e7987d-196f-46c4-b86f-f9838b9da1c7",
   "metadata": {},
   "outputs": [
    {
     "name": "stdout",
     "output_type": "stream",
     "text": [
      "Warning: thermodynamics relations excluded imaginary frequencies: ['1246.1024i']\n",
      "[-1246.10237659  2137.72066166  2548.59872837]\n"
     ]
    }
   ],
   "source": [
    "psi4.set_options({\"normal_modes_write \":True,\n",
    "                  \"writer_file_label\":\"CNH\"})\n",
    "psi4.core.set_output_file('vib.out')\n",
    "E, wfn = psi4.frequency('hf/6-31g', molecule=M, return_wfn=True)\n",
    "print(wfn.frequencies().np[:])"
   ]
  },
  {
   "cell_type": "markdown",
   "id": "8c6b997c-9bb4-4b1c-8a21-0beb3be534f5",
   "metadata": {},
   "source": [
    "## One imaginary frequency confirms that the molecule is located at a saddle point.\n",
    "## Visualized vector of that imaginary frequency shows a direction to one of the two energy minima."
   ]
  },
  {
   "cell_type": "code",
   "execution_count": 9,
   "id": "86aacf5c-e798-4670-a297-184e20b566f6",
   "metadata": {},
   "outputs": [
    {
     "data": {
      "application/vnd.jupyter.widget-view+json": {
       "model_id": "0e2c2dfcc7884406b9b302952ff7b8b4",
       "version_major": 2,
       "version_minor": 0
      },
      "text/plain": [
       "VBox(children=(HTML(value='<div align=\"center\" style=\"font-size:16px;font-family:Helvetica;font-weight: bold;\"…"
      ]
     },
     "metadata": {},
     "output_type": "display_data"
    },
    {
     "data": {
      "application/vnd.jupyter.widget-view+json": {
       "model_id": "9f0c31f663b74cdfadb21d88864ce0a7",
       "version_major": 2,
       "version_minor": 0
      },
      "text/plain": [
       "HTML(value='\\n        <style>\\n           .jupyter-widgets-output-area .output_scroll {\\n                heigh…"
      ]
     },
     "metadata": {},
     "output_type": "display_data"
    },
    {
     "data": {
      "application/vnd.jupyter.widget-view+json": {
       "model_id": "9121f62bd9a64fe2bd8d7dea36da78de",
       "version_major": 2,
       "version_minor": 0
      },
      "text/plain": [
       "interactive(children=(Select(description='Select:', options=('1: Imaginary mode (i1246.1 cm^-1)', '2: Normal m…"
      ]
     },
     "metadata": {},
     "output_type": "display_data"
    },
    {
     "data": {
      "text/plain": [
       "<fortecubeview.vib_viewer.VibViewer at 0x7f7e837a4fd0>"
      ]
     },
     "execution_count": 9,
     "metadata": {},
     "output_type": "execute_result"
    }
   ],
   "source": [
    "vis.vib(glob.glob('CNH.*.molden_normal_modes')[0])"
   ]
  }
 ],
 "metadata": {
  "kernelspec": {
   "display_name": "Python 3 (ipykernel)",
   "language": "python",
   "name": "python3"
  },
  "language_info": {
   "codemirror_mode": {
    "name": "ipython",
    "version": 3
   },
   "file_extension": ".py",
   "mimetype": "text/x-python",
   "name": "python",
   "nbconvert_exporter": "python",
   "pygments_lexer": "ipython3",
   "version": "3.9.16"
  }
 },
 "nbformat": 4,
 "nbformat_minor": 5
}
