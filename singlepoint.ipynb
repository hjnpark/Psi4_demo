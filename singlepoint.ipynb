{
 "cells": [
  {
   "cell_type": "code",
   "execution_count": null,
   "id": "9fdf6850",
   "metadata": {},
   "outputs": [],
   "source": [
    "import psi4\n",
    "import re as re\n",
    "import matplotlib.pyplot as plt\n",
    "import fortecubeview as vis"
   ]
  },
  {
   "cell_type": "markdown",
   "id": "cf7fa928",
   "metadata": {},
   "source": [
    "# 1. Singlepoint energy calculation ([Psi4 manual](https://psicode.org/psi4manual/master/energy.html))\n",
    "\n",
    "## Let's calculate electronic energy of a $H_2$ molecule. "
   ]
  },
  {
   "cell_type": "code",
   "execution_count": null,
   "id": "6b37d7ed",
   "metadata": {},
   "outputs": [],
   "source": [
    "psi4.set_memory('500 MB')\n",
    "\n",
    "h2 = \"\"\"\n",
    "    0 1\n",
    "    H 0.0 0.0 0.0\n",
    "    H 0.0 0.0 1.5\n",
    "    unit bohr\n",
    "\"\"\"\n",
    "\n",
    "psi4.set_options({'basis': '6-31g',\n",
    "                  'reference': 'rhf'})\n",
    "\n",
    "psi4.core.set_output_file('singlepoint.out')\n",
    "\n",
    "M = psi4.geometry(h2)\n",
    "E = psi4.energy('scf', molecule = M)\n",
    "\n",
    "print(\"Energy of a hydrogen molecule: %.7f Hartree\" %E)"
   ]
  },
  {
   "cell_type": "markdown",
   "id": "88ec8915-e47d-4c19-9867-e463dca4a14d",
   "metadata": {
    "tags": []
   },
   "source": [
    "## We can visualize the molecule"
   ]
  },
  {
   "cell_type": "code",
   "execution_count": null,
   "id": "cd180012-cddc-4f4d-80ab-691327e0cbfa",
   "metadata": {},
   "outputs": [],
   "source": [
    "vis.geom(molecule=M)"
   ]
  },
  {
   "cell_type": "markdown",
   "id": "619eb532-0cef-4bdd-819c-ca72c3de7234",
   "metadata": {},
   "source": [
    "# 2. Potential curve\n",
    "## We can adjust the bond length and calculate energies to plot a potential curve plot."
   ]
  },
  {
   "cell_type": "code",
   "execution_count": null,
   "id": "ffb37c11-90e4-4d67-9071-58ac0cc4ac94",
   "metadata": {
    "tags": []
   },
   "outputs": [],
   "source": [
    "h2 = \"\"\"\n",
    "    0 1\n",
    "    H 0.0 0.0 0.0\n",
    "    H 0.0 0.0 R\n",
    "    unit bohr\n",
    "\"\"\"\n",
    "\n",
    "psi4.set_options({'basis': '6-31g',\n",
    "                  'reference': 'rhf'})\n",
    "\n",
    "psi4.core.set_output_file('PES.out')\n",
    "\n",
    "N = 101\n",
    "R_min = 0.5\n",
    "R_max = 15.0\n",
    "\n",
    "dr = (R_max - R_min)/N\n",
    "\n",
    "Rvals = []\n",
    "E = []\n",
    "\n",
    "for i in range(N):\n",
    "    dis = R_min + i*dr\n",
    "    h2_new = re.sub(\"R\", str(dis), h2)\n",
    "    Energy = psi4.energy('scf', molecule = psi4.geometry(h2_new))\n",
    "    Rvals.append(dis)\n",
    "    E.append(Energy)\n",
    "\n",
    "fig, ax = plt.subplots()\n",
    "ax.set_title('Potential curve of H2')\n",
    "ax.set(xlabel = 'Distance (Bohr)', ylabel = 'Energy (Hartree)')\n",
    "ax.plot(Rvals, E)\n",
    "plt.show()"
   ]
  }
 ],
 "metadata": {
  "kernelspec": {
   "display_name": "Python 3 (ipykernel)",
   "language": "python",
   "name": "python3"
  },
  "language_info": {
   "codemirror_mode": {
    "name": "ipython",
    "version": 3
   },
   "file_extension": ".py",
   "mimetype": "text/x-python",
   "name": "python",
   "nbconvert_exporter": "python",
   "pygments_lexer": "ipython3",
   "version": "3.9.16"
  }
 },
 "nbformat": 4,
 "nbformat_minor": 5
}
