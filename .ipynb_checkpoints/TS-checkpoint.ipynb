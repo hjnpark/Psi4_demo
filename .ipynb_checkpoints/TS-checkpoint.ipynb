{
 "cells": [
  {
   "cell_type": "code",
   "execution_count": 1,
   "id": "4bd9a481-e9ce-4907-a55b-d6f640c90f11",
   "metadata": {},
   "outputs": [],
   "source": [
    "import psi4\n",
    "import fortecubeview as vis\n",
    "import glob"
   ]
  },
  {
   "cell_type": "markdown",
   "id": "456bfdee-13bb-43d1-b9d2-d3743f11d020",
   "metadata": {},
   "source": [
    "## Vibrational frequency analysis can be used to verify a transition state structure.\n",
    "## Here, we have a rough guess of a transition state structure of CNH -> HCN reaction."
   ]
  },
  {
   "cell_type": "code",
   "execution_count": 2,
   "id": "3c962193-8c82-409e-ad92-db654a3973cb",
   "metadata": {},
   "outputs": [
    {
     "name": "stdout",
     "output_type": "stream",
     "text": [
      "\n",
      "  Memory set to 476.837 MiB by Python driver.\n"
     ]
    },
    {
     "data": {
      "application/vnd.jupyter.widget-view+json": {
       "model_id": "6543b4027c5f4f8ab355ea96b9bc96f0",
       "version_major": 2,
       "version_minor": 0
      },
      "text/plain": [
       "Renderer(camera=OrthographicCamera(bottom=-5.0, children=(DirectionalLight(color='white', intensity=0.5, posit…"
      ]
     },
     "metadata": {},
     "output_type": "display_data"
    },
    {
     "data": {
      "text/plain": [
       "<fortecubeview.mol_viewer.MolViewer at 0x7faa4820c610>"
      ]
     },
     "execution_count": 2,
     "metadata": {},
     "output_type": "execute_result"
    }
   ],
   "source": [
    "psi4.set_memory('500 MB')\n",
    "\n",
    "CNH  = \"\"\"\n",
    "      0 1 \n",
    "      C  0.0  0.0  0.0 \n",
    "      N  0.0  1.16  0.0\n",
    "      H  0.0  0.5  1.0\n",
    "      \"\"\"\n",
    "vis.geom(xyz=CNH)"
   ]
  },
  {
   "cell_type": "markdown",
   "id": "52c8d2b6-d35f-486c-9282-d8d0b766cc4d",
   "metadata": {},
   "source": [
    "## We will optimize it first and obtain vibrational modes."
   ]
  },
  {
   "cell_type": "code",
   "execution_count": 3,
   "id": "3ef17d22-181d-4a21-9877-09ea05afa993",
   "metadata": {},
   "outputs": [
    {
     "name": "stdout",
     "output_type": "stream",
     "text": [
      "Optimizer: Optimization complete!\n",
      "Energy of the optimized water is -92.7236056\n"
     ]
    },
    {
     "data": {
      "application/vnd.jupyter.widget-view+json": {
       "model_id": "39a35dc404d14a869979544d574984ba",
       "version_major": 2,
       "version_minor": 0
      },
      "text/plain": [
       "Renderer(camera=OrthographicCamera(bottom=-5.0, children=(DirectionalLight(color='white', intensity=0.5, posit…"
      ]
     },
     "metadata": {},
     "output_type": "display_data"
    },
    {
     "data": {
      "text/plain": [
       "<fortecubeview.mol_viewer.MolViewer at 0x7fa9c0419040>"
      ]
     },
     "execution_count": 3,
     "metadata": {},
     "output_type": "execute_result"
    }
   ],
   "source": [
    "M = psi4.geometry(CNH)\n",
    "psi4.core.set_output_file('TSoptimization.out')\n",
    "psi4.set_options({'basis': '6-31g',\n",
    "                  'reference': 'rhf',\n",
    "                  'opt_type':'TS'})\n",
    "energy, wfn = psi4.optimize('scf', molecule = M,return_wfn = True)\n",
    "print('Energy of the optimized water is %.7f' %energy)\n",
    "vis.geom(molecule = M)"
   ]
  },
  {
   "cell_type": "code",
   "execution_count": 4,
   "id": "3191275c-5cee-42ea-acee-ae0a5f8fbcf0",
   "metadata": {
    "tags": []
   },
   "outputs": [
    {
     "name": "stdout",
     "output_type": "stream",
     "text": [
      "Warning: thermodynamics relations excluded imaginary frequencies: ['1246.0559i']\n",
      "The three normal mode vibrational frequencies are -1246.06 cm-1, 2137.63 cm-1, and 2548.38 cm-1\n"
     ]
    }
   ],
   "source": [
    "psi4.set_options({\"normal_modes_write \":True,\n",
    "                  \"writer_file_label\":\"CNH\"})\n",
    "psi4.core.set_output_file('vib.out')\n",
    "E, wfn = psi4.frequency('scf', molecule=M, return_wfn=True)\n",
    "\n",
    "freqs = [x for x in wfn.frequencies().np[:]]\n",
    "print(\"The three normal mode vibrational frequencies are %.2f cm-1, %.2f cm-1, and %.2f cm-1\" %(freqs[0], freqs[1], freqs[2]))"
   ]
  },
  {
   "cell_type": "markdown",
   "id": "e597470e-9bc2-4862-ac3c-e8e0977c8cd9",
   "metadata": {},
   "source": [
    "## One imaginary frequency confirms that the molecule is located at a saddle point.\n",
    "## Visualized vector of that imaginary frequency shows a direction to one of the two energy minima."
   ]
  },
  {
   "cell_type": "code",
   "execution_count": 5,
   "id": "c4aff999-97e7-4cf3-9e9c-30fbdf0c3016",
   "metadata": {
    "tags": []
   },
   "outputs": [
    {
     "data": {
      "application/vnd.jupyter.widget-view+json": {
       "model_id": "73b6444b13b649eab759bac029502058",
       "version_major": 2,
       "version_minor": 0
      },
      "text/plain": [
       "VBox(children=(HTML(value='<div align=\"center\" style=\"font-size:16px;font-family:Helvetica;font-weight: bold;\"…"
      ]
     },
     "metadata": {},
     "output_type": "display_data"
    },
    {
     "data": {
      "application/vnd.jupyter.widget-view+json": {
       "model_id": "7f86f115a5624f1888fb79aa37ec2551",
       "version_major": 2,
       "version_minor": 0
      },
      "text/plain": [
       "HTML(value='\\n        <style>\\n           .jupyter-widgets-output-area .output_scroll {\\n                heigh…"
      ]
     },
     "metadata": {},
     "output_type": "display_data"
    },
    {
     "data": {
      "application/vnd.jupyter.widget-view+json": {
       "model_id": "9ce31f36e52640d29ec3371b3ea674cc",
       "version_major": 2,
       "version_minor": 0
      },
      "text/plain": [
       "interactive(children=(Select(description='Select:', options=('1: Imaginary mode (i1246.2 cm^-1)', '2: Normal m…"
      ]
     },
     "metadata": {},
     "output_type": "display_data"
    },
    {
     "data": {
      "text/plain": [
       "<fortecubeview.vib_viewer.VibViewer at 0x7fa9bc9952b0>"
      ]
     },
     "execution_count": 5,
     "metadata": {},
     "output_type": "execute_result"
    }
   ],
   "source": [
    "vis.vib(glob.glob('CNH.*.molden_normal_modes')[-1])"
   ]
  },
  {
   "cell_type": "code",
   "execution_count": null,
   "id": "4ed14a7e-da96-4b1b-b984-154a18fa68f2",
   "metadata": {},
   "outputs": [],
   "source": []
  }
 ],
 "metadata": {
  "kernelspec": {
   "display_name": "Python 3 (ipykernel)",
   "language": "python",
   "name": "python3"
  },
  "language_info": {
   "codemirror_mode": {
    "name": "ipython",
    "version": 3
   },
   "file_extension": ".py",
   "mimetype": "text/x-python",
   "name": "python",
   "nbconvert_exporter": "python",
   "pygments_lexer": "ipython3",
   "version": "3.9.16"
  }
 },
 "nbformat": 4,
 "nbformat_minor": 5
}
