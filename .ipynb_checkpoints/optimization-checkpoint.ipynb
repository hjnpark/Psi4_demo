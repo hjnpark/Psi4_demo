{
 "cells": [
  {
   "cell_type": "code",
   "execution_count": 1,
   "id": "51ed8a14-ce96-49ec-bc62-cda0c3051576",
   "metadata": {
    "tags": []
   },
   "outputs": [],
   "source": [
    "import psi4\n",
    "import fortecubeview as vis\n",
    "import numpy as np"
   ]
  },
  {
   "cell_type": "markdown",
   "id": "d67c71de-e9f5-4f49-be84-5beec373ca65",
   "metadata": {},
   "source": [
    "# 1. Optimization ([Psi4 manual](https://psicode.org/psi4manual/master/optking.html))\n",
    "## Psi4 uses a python module called optking to perfrom geometry optimization. \n",
    "## Let's prepare a water molecule with H-O-H angle of 90&deg;."
   ]
  },
  {
   "cell_type": "code",
   "execution_count": 2,
   "id": "80109832-8858-4749-ac23-b0af827b76f1",
   "metadata": {},
   "outputs": [
    {
     "name": "stdout",
     "output_type": "stream",
     "text": [
      "\n",
      "  Memory set to 476.837 MiB by Python driver.\n",
      "Energy : -75.9696852 Hartree\n"
     ]
    }
   ],
   "source": [
    "psi4.set_memory('500 MB')\n",
    "\n",
    "h2o  = \"\"\"\n",
    "      0 1 \n",
    "      O  0.0  0.0  0.0 \n",
    "      H  1.0  0.0  0.0\n",
    "      H  0.0  1.0  0.0\n",
    "      units ang\"\"\"\n",
    "M = psi4.geometry(h2o)\n",
    "\n",
    "psi4.set_options({'basis': '6-31g',\n",
    "                  'reference': 'rhf'})\n",
    "\n",
    "psi4.core.set_output_file('Optimization.out')\n",
    "e = psi4.energy('scf', molecule = M)\n",
    "print(\"Energy : %.7f Hartree\" %e)"
   ]
  },
  {
   "cell_type": "markdown",
   "id": "f826de13-fcdf-4fc6-ab9f-00f207072acf",
   "metadata": {},
   "source": [
    "## Visualization"
   ]
  },
  {
   "cell_type": "code",
   "execution_count": 3,
   "id": "a2826554-553b-435a-b8fc-312147beaf42",
   "metadata": {},
   "outputs": [
    {
     "data": {
      "application/vnd.jupyter.widget-view+json": {
       "model_id": "6164889a00744ffc97667ac5348319df",
       "version_major": 2,
       "version_minor": 0
      },
      "text/plain": [
       "Renderer(camera=OrthographicCamera(bottom=-5.0, children=(DirectionalLight(color='white', intensity=0.5, posit…"
      ]
     },
     "metadata": {},
     "output_type": "display_data"
    },
    {
     "data": {
      "text/plain": [
       "<fortecubeview.mol_viewer.MolViewer at 0x7f78d9e39d60>"
      ]
     },
     "execution_count": 3,
     "metadata": {},
     "output_type": "execute_result"
    }
   ],
   "source": [
    "vis.geom(molecule = M)"
   ]
  },
  {
   "cell_type": "markdown",
   "id": "e56d8968-da4c-40c5-a459-1f275722b57e",
   "metadata": {},
   "source": [
    "## We can optimize it and visualize the optimized molecule."
   ]
  },
  {
   "cell_type": "code",
   "execution_count": 4,
   "id": "c867016c-b09b-409d-9064-a500ad683657",
   "metadata": {},
   "outputs": [
    {
     "name": "stdout",
     "output_type": "stream",
     "text": [
      "Optimizer: Optimization complete!\n",
      "Energy of the optimized water is -75.9853438 Hartree\n"
     ]
    }
   ],
   "source": [
    "energy= psi4.optimize('scf', molecule = M)\n",
    "print('Energy of the optimized water is %.7f Hartree' %energy)"
   ]
  },
  {
   "cell_type": "code",
   "execution_count": 5,
   "id": "7caceb26-539d-4951-ac2f-0e218e7eb51d",
   "metadata": {},
   "outputs": [
    {
     "data": {
      "application/vnd.jupyter.widget-view+json": {
       "model_id": "183525aa9f254739b7edc64d372703f7",
       "version_major": 2,
       "version_minor": 0
      },
      "text/plain": [
       "Renderer(camera=OrthographicCamera(bottom=-5.0, children=(DirectionalLight(color='white', intensity=0.5, posit…"
      ]
     },
     "metadata": {},
     "output_type": "display_data"
    },
    {
     "data": {
      "text/plain": [
       "<fortecubeview.mol_viewer.MolViewer at 0x7f78d9e39580>"
      ]
     },
     "execution_count": 5,
     "metadata": {},
     "output_type": "execute_result"
    }
   ],
   "source": [
    "vis.geom(molecule = M)"
   ]
  },
  {
   "cell_type": "code",
   "execution_count": 6,
   "id": "7029e5f0-f65f-4264-93d6-6ffad90b868f",
   "metadata": {},
   "outputs": [
    {
     "name": "stdout",
     "output_type": "stream",
     "text": [
      "Length between O and H is 1.79 Bohr\n",
      "Angle of H-O-H is 111.53 degree\n"
     ]
    }
   ],
   "source": [
    "geom = M.geometry()# Cartesian coordinate of the optimized geometry \n",
    "cart_array = geom.np[:]\n",
    "atoms = [M.symbol(i) for i in range(len(cart_array))]\n",
    "\n",
    "length = np.linalg.norm(cart_array[0]-cart_array[1])\n",
    "\n",
    "print('Length between %s and %s is %.2f %s' %(atoms[0], atoms[1], length, 'Bohr'))\n",
    "\n",
    "v1 = cart_array[1] - cart_array[0]\n",
    "v1 /= np.linalg.norm(v1)\n",
    "v2 = cart_array[2] - cart_array[0]\n",
    "v2 /= np.linalg.norm(v2)\n",
    "\n",
    "dot = np.dot(v1,v2)\n",
    "rad = np.arccos(dot)\n",
    "deg = np.degrees(rad)\n",
    "print('Angle of %s-%s-%s is %.2f degree' %(atoms[1], atoms[0], atoms[2], deg))"
   ]
  },
  {
   "cell_type": "markdown",
   "id": "7a63affa-d6e3-49da-af1f-afc9025783f1",
   "metadata": {},
   "source": [
    "# 2. Visualization of molecular orbitals ([Psi4 manual](https://psicode.org/psi4manual/master/cubeprop.html))"
   ]
  },
  {
   "cell_type": "code",
   "execution_count": 7,
   "id": "853fa5c4-0d98-4229-991b-f1ee1ce3753b",
   "metadata": {},
   "outputs": [],
   "source": [
    "psi4.set_options(\n",
    "        {'cubeprop_tasks':['orbitals'],\n",
    "         'cubeprop_orbitals' : [2,3,4,5,6],\n",
    "         'cubeprop_filepath': '.'})\n",
    "\n",
    "e, wfn = psi4.energy('scf', molecule = M, return_wfn = True)\n",
    "\n",
    "psi4.cubeprop(wfn)"
   ]
  },
  {
   "cell_type": "code",
   "execution_count": 8,
   "id": "27672252-51f4-40f7-b4fc-8b75fde6e2bb",
   "metadata": {},
   "outputs": [
    {
     "name": "stdout",
     "output_type": "stream",
     "text": [
      "CubeViewer: listing cube files from the directory .\n",
      "Reading 5 cube files\n"
     ]
    },
    {
     "data": {
      "application/vnd.jupyter.widget-view+json": {
       "model_id": "47bd53a175ad4746a3b3886e2cf55a4a",
       "version_major": 2,
       "version_minor": 0
      },
      "text/plain": [
       "VBox(children=(HTML(value='<div align=\"center\" style=\"font-size:16px;font-family:Helvetica;font-weight: bold;\"…"
      ]
     },
     "metadata": {},
     "output_type": "display_data"
    },
    {
     "data": {
      "application/vnd.jupyter.widget-view+json": {
       "model_id": "598782a8bee648199810f8547dc25274",
       "version_major": 2,
       "version_minor": 0
      },
      "text/plain": [
       "HTML(value='\\n        <style>\\n           .jupyter-widgets-output-area .output_scroll {\\n                heigh…"
      ]
     },
     "metadata": {},
     "output_type": "display_data"
    },
    {
     "data": {
      "application/vnd.jupyter.widget-view+json": {
       "model_id": "7113f9524c304770872504b7d31d6d44",
       "version_major": 2,
       "version_minor": 0
      },
      "text/plain": [
       "interactive(children=(Select(description='Cube files:', options=('MO    2a (2-A1)', 'MO    3a (1-B1)', 'MO    …"
      ]
     },
     "metadata": {},
     "output_type": "display_data"
    },
    {
     "data": {
      "text/plain": [
       "<fortecubeview.cube_viewer.CubeViewer at 0x7f78d9cd15b0>"
      ]
     },
     "execution_count": 8,
     "metadata": {},
     "output_type": "execute_result"
    }
   ],
   "source": [
    "vis.plot(width=500,height=300,colorscheme='emory',sumlevel=0.7)"
   ]
  },
  {
   "cell_type": "markdown",
   "id": "98efe416-6e8e-47f1-8247-7f082c987e3c",
   "metadata": {},
   "source": [
    "## You can bring molecules from PubChem."
   ]
  },
  {
   "cell_type": "code",
   "execution_count": 9,
   "id": "1ad16554-18b7-4943-83a0-5cdd9c4ab47d",
   "metadata": {},
   "outputs": [
    {
     "name": "stdout",
     "output_type": "stream",
     "text": [
      "\tSearching PubChem database for naphtalene (single best match returned)\n",
      "\tFound 1 result(s)\n"
     ]
    },
    {
     "data": {
      "application/vnd.jupyter.widget-view+json": {
       "model_id": "b51e3f4e60e347acbb39f575fb47047d",
       "version_major": 2,
       "version_minor": 0
      },
      "text/plain": [
       "Renderer(camera=OrthographicCamera(bottom=-5.0, children=(DirectionalLight(color='white', intensity=0.5, posit…"
      ]
     },
     "metadata": {},
     "output_type": "display_data"
    },
    {
     "data": {
      "text/plain": [
       "<fortecubeview.mol_viewer.MolViewer at 0x7f78d9da10d0>"
      ]
     },
     "execution_count": 9,
     "metadata": {},
     "output_type": "execute_result"
    }
   ],
   "source": [
    "naph = psi4.geometry(\"\"\"\n",
    "        pubchem:naphtalene\n",
    "\"\"\")\n",
    "\n",
    "vis.geom(molecule=naph)"
   ]
  },
  {
   "cell_type": "code",
   "execution_count": 10,
   "id": "9c13818e-470f-4bfe-814e-cfa2212fed04",
   "metadata": {},
   "outputs": [
    {
     "name": "stdout",
     "output_type": "stream",
     "text": [
      "\tSearching PubChem database for caffein (single best match returned)\n",
      "\tFound 1 result(s)\n"
     ]
    },
    {
     "data": {
      "application/vnd.jupyter.widget-view+json": {
       "model_id": "17e561cc65c542baac5ed2e31e7eab4c",
       "version_major": 2,
       "version_minor": 0
      },
      "text/plain": [
       "Renderer(camera=OrthographicCamera(bottom=-5.0, children=(DirectionalLight(color='white', intensity=0.5, posit…"
      ]
     },
     "metadata": {},
     "output_type": "display_data"
    },
    {
     "data": {
      "text/plain": [
       "<fortecubeview.mol_viewer.MolViewer at 0x7f78d9da1040>"
      ]
     },
     "execution_count": 10,
     "metadata": {},
     "output_type": "execute_result"
    }
   ],
   "source": [
    "caff = psi4.geometry(\"\"\"\n",
    "        pubchem:caffein\n",
    "\"\"\")\n",
    "\n",
    "vis.geom(molecule=caff)"
   ]
  },
  {
   "cell_type": "code",
   "execution_count": 11,
   "id": "11dede28-d72a-43f2-bd2c-1e39b2a61f7c",
   "metadata": {
    "tags": []
   },
   "outputs": [
    {
     "name": "stdout",
     "output_type": "stream",
     "text": [
      "\tSearching PubChem database for asprin (single best match returned)\n",
      "\tFound 1 result(s)\n"
     ]
    },
    {
     "data": {
      "application/vnd.jupyter.widget-view+json": {
       "model_id": "bcb637b866f44f55bb2786cd5b0edfc5",
       "version_major": 2,
       "version_minor": 0
      },
      "text/plain": [
       "Renderer(camera=OrthographicCamera(bottom=-5.0, children=(DirectionalLight(color='white', intensity=0.5, posit…"
      ]
     },
     "metadata": {},
     "output_type": "display_data"
    },
    {
     "data": {
      "text/plain": [
       "<fortecubeview.mol_viewer.MolViewer at 0x7f78d998f8b0>"
      ]
     },
     "execution_count": 11,
     "metadata": {},
     "output_type": "execute_result"
    }
   ],
   "source": [
    "asp = psi4.geometry(\"\"\"\n",
    "        pubchem:asprin  \n",
    "\"\"\")\n",
    "\n",
    "vis.geom(molecule=asp)"
   ]
  }
 ],
 "metadata": {
  "kernelspec": {
   "display_name": "Python 3 (ipykernel)",
   "language": "python",
   "name": "python3"
  },
  "language_info": {
   "codemirror_mode": {
    "name": "ipython",
    "version": 3
   },
   "file_extension": ".py",
   "mimetype": "text/x-python",
   "name": "python",
   "nbconvert_exporter": "python",
   "pygments_lexer": "ipython3",
   "version": "3.9.16"
  }
 },
 "nbformat": 4,
 "nbformat_minor": 5
}
