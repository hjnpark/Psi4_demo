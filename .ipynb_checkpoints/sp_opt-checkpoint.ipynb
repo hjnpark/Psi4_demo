{
 "cells": [
  {
   "cell_type": "code",
   "execution_count": 1,
   "id": "9fdf6850",
   "metadata": {},
   "outputs": [],
   "source": [
    "import psi4\n",
    "import numpy as np\n",
    "import fortecubeview as vis"
   ]
  },
  {
   "cell_type": "markdown",
   "id": "cf7fa928",
   "metadata": {},
   "source": [
    "# 1. Single-point energy calculation\n",
    "\n",
    "## Let's calculate electronic energy of a water molecule."
   ]
  },
  {
   "cell_type": "code",
   "execution_count": 2,
   "id": "6b37d7ed",
   "metadata": {},
   "outputs": [
    {
     "name": "stdout",
     "output_type": "stream",
     "text": [
      "\n",
      "  Memory set to 476.837 MiB by Python driver.\n",
      "Energy : -75.9696852 Hartree\n"
     ]
    }
   ],
   "source": [
    "psi4.set_memory('500 MB')\n",
    "\n",
    "h2o  = \"\"\"\n",
    "      0 1 \n",
    "      O  0.0  0.0  0.0 \n",
    "      H  1.0  0.0  0.0\n",
    "      H  0.0  1.0  0.0\n",
    "      units ang\"\"\"\n",
    "\n",
    "\n",
    "psi4.geometry(h2o)\n",
    "psi4.core.set_output_file('Singlepoint.out')\n",
    "e = psi4.energy('hf/6-31g')\n",
    "print(\"Energy : %.7f Hartree\" %e)"
   ]
  },
  {
   "cell_type": "markdown",
   "id": "0c7c78f9-50ad-492d-ae42-12bbb349766f",
   "metadata": {},
   "source": [
    "## Visualization"
   ]
  },
  {
   "cell_type": "code",
   "execution_count": 3,
   "id": "e2368c06",
   "metadata": {},
   "outputs": [
    {
     "data": {
      "application/vnd.jupyter.widget-view+json": {
       "model_id": "a3a622cce2ff4f83b0891f8c8818cf34",
       "version_major": 2,
       "version_minor": 0
      },
      "text/plain": [
       "Renderer(camera=OrthographicCamera(bottom=-5.0, children=(DirectionalLight(color='white', intensity=0.5, posit…"
      ]
     },
     "metadata": {},
     "output_type": "display_data"
    },
    {
     "data": {
      "text/plain": [
       "<fortecubeview.mol_viewer.MolViewer at 0x7fa4deef5c70>"
      ]
     },
     "execution_count": 3,
     "metadata": {},
     "output_type": "execute_result"
    }
   ],
   "source": [
    "h2o  = \"\"\"\n",
    "      0 1 \n",
    "      O  0.0  0.0  0.0 \n",
    "      H  1.0  0.0  0.0\n",
    "      H  0.0  1.0  0.0\n",
    "      \"\"\"\n",
    "\n",
    "vis.geom(xyz = h2o)"
   ]
  },
  {
   "cell_type": "markdown",
   "id": "1a40d364-71bc-4167-b0ea-4393c9ef2ae9",
   "metadata": {},
   "source": [
    "# 2. Optimization\n",
    "## As you can see, the water molecule has the H-O-H angle of 90&deg;. We know this is not right. Let's optimize it. "
   ]
  },
  {
   "cell_type": "code",
   "execution_count": 4,
   "id": "35b186be-cf12-46ed-808b-0463b4ee6e31",
   "metadata": {
    "tags": []
   },
   "outputs": [
    {
     "name": "stdout",
     "output_type": "stream",
     "text": [
      "Optimizer: Optimization complete!\n",
      "Energy of the optimized water is -75.9853438\n"
     ]
    }
   ],
   "source": [
    "h2o  = \"\"\"\n",
    "      0 1 \n",
    "      O  0.0  0.0  0.0 \n",
    "      H  0.0  1.0  0.0\n",
    "      H  0.0  0.0  1.0\n",
    "      units ang\"\"\"\n",
    "\n",
    "M = psi4.geometry(h2o)\n",
    "psi4.core.set_output_file('Optimization.out')\n",
    "energy, wfn = psi4.optimize('hf/6-31g', molecule = M,return_wfn = True)\n",
    "print('Energy of the optimized water is %.7f' %energy)"
   ]
  },
  {
   "cell_type": "markdown",
   "id": "2866def3-da17-4b98-b16f-a07a0add2929",
   "metadata": {},
   "source": [
    "## Visualization"
   ]
  },
  {
   "cell_type": "code",
   "execution_count": 5,
   "id": "8dc19afb-fbec-4497-9cfb-bf5be519b6b4",
   "metadata": {},
   "outputs": [
    {
     "data": {
      "application/vnd.jupyter.widget-view+json": {
       "model_id": "2169542372574bb7b309ed2c1ef228af",
       "version_major": 2,
       "version_minor": 0
      },
      "text/plain": [
       "Renderer(camera=OrthographicCamera(bottom=-5.0, children=(DirectionalLight(color='white', intensity=0.5, posit…"
      ]
     },
     "metadata": {},
     "output_type": "display_data"
    },
    {
     "data": {
      "text/plain": [
       "<fortecubeview.mol_viewer.MolViewer at 0x7fa4deef5d90>"
      ]
     },
     "execution_count": 5,
     "metadata": {},
     "output_type": "execute_result"
    }
   ],
   "source": [
    "vis.geom(molecule = M)"
   ]
  },
  {
   "cell_type": "markdown",
   "id": "7841d341-6da9-4fad-8004-dc99305e9c51",
   "metadata": {},
   "source": [
    "## We can calculate angle and bond lengths of the new geometry."
   ]
  },
  {
   "cell_type": "code",
   "execution_count": 6,
   "id": "ed4d3059-c896-450b-a32b-dfebd7341d86",
   "metadata": {},
   "outputs": [
    {
     "name": "stdout",
     "output_type": "stream",
     "text": [
      "Length between O and H is 1.79 Angstrom\n",
      "Angle of H-O-H is 111.53 degree\n"
     ]
    }
   ],
   "source": [
    "geom = M.geometry()# Cartesian coordinate of the optimized geometry \n",
    "cart_array = geom.np[:]\n",
    "atoms = [M.symbol(i) for i in range(len(cart_array))]\n",
    "\n",
    "length = np.linalg.norm(cart_array[0]-cart_array[1])\n",
    "\n",
    "print('Length between %s and %s is %.2f %s' %(atoms[0], atoms[1], length, M.units()))\n",
    "\n",
    "v1 = cart_array[1] - cart_array[0]\n",
    "v1 /= np.linalg.norm(v1)\n",
    "v2 = cart_array[2] - cart_array[0]\n",
    "v2 /= np.linalg.norm(v2)\n",
    "\n",
    "dot = np.dot(v1,v2)\n",
    "rad = np.arccos(dot)\n",
    "deg = np.degrees(rad)\n",
    "print('Angle of %s-%s-%s is %.2f degree' %(atoms[1], atoms[0], atoms[2], deg))"
   ]
  },
  {
   "cell_type": "markdown",
   "id": "09e38c9c-416b-45d1-a903-667371ae154a",
   "metadata": {},
   "source": [
    "# 3. Visualizing MO"
   ]
  },
  {
   "cell_type": "code",
   "execution_count": 7,
   "id": "5280322f-cf77-4128-9181-57d407461b42",
   "metadata": {},
   "outputs": [],
   "source": [
    "e, wfn = psi4.energy('hf/6-31g', molecule = M, return_wfn = True)\n",
    "psi4.set_options(\n",
    "        {'cubeprop_tasks':['orbitals'],\n",
    "         'cubeprop_orbitals' : [1,2,3,4,5],\n",
    "         'cubeprop_filepath': '.'})\n",
    "psi4.cubeprop(wfn)"
   ]
  },
  {
   "cell_type": "code",
   "execution_count": 8,
   "id": "7de3458b-83c2-48bc-b572-ae672492dc2d",
   "metadata": {},
   "outputs": [
    {
     "name": "stdout",
     "output_type": "stream",
     "text": [
      "CubeViewer: listing cube files from the directory .\n",
      "Reading 5 cube files\n"
     ]
    },
    {
     "data": {
      "application/vnd.jupyter.widget-view+json": {
       "model_id": "db138c06d4794e00a1d6e683ff47e8be",
       "version_major": 2,
       "version_minor": 0
      },
      "text/plain": [
       "VBox(children=(HTML(value='<div align=\"center\" style=\"font-size:16px;font-family:Helvetica;font-weight: bold;\"…"
      ]
     },
     "metadata": {},
     "output_type": "display_data"
    },
    {
     "data": {
      "application/vnd.jupyter.widget-view+json": {
       "model_id": "b17dd14c2d2746a4abb3a318cae02807",
       "version_major": 2,
       "version_minor": 0
      },
      "text/plain": [
       "HTML(value='\\n        <style>\\n           .jupyter-widgets-output-area .output_scroll {\\n                heigh…"
      ]
     },
     "metadata": {},
     "output_type": "display_data"
    },
    {
     "data": {
      "application/vnd.jupyter.widget-view+json": {
       "model_id": "5ea92730a93649c3a45a94bf2b74c2d3",
       "version_major": 2,
       "version_minor": 0
      },
      "text/plain": [
       "interactive(children=(Select(description='Cube files:', options=('MO    1a (1-A1)', 'MO    2a (2-A1)', 'MO    …"
      ]
     },
     "metadata": {},
     "output_type": "display_data"
    },
    {
     "data": {
      "text/plain": [
       "<fortecubeview.cube_viewer.CubeViewer at 0x7fa4dee15190>"
      ]
     },
     "execution_count": 8,
     "metadata": {},
     "output_type": "execute_result"
    }
   ],
   "source": [
    "vis.plot(width=500,height=300,colorscheme='emory',sumlevel=0.7)"
   ]
  },
  {
   "cell_type": "markdown",
   "id": "8957babb-79cb-49b0-be80-687b1d5da1ae",
   "metadata": {},
   "source": [
    "# 4. Bringing molecules from PubChem"
   ]
  },
  {
   "cell_type": "code",
   "execution_count": 9,
   "id": "d9b74162-4373-4007-a1c1-d95b8c5ec03c",
   "metadata": {},
   "outputs": [
    {
     "name": "stdout",
     "output_type": "stream",
     "text": [
      "\tSearching PubChem database for naphtalene (single best match returned)\n",
      "\tFound 1 result(s)\n"
     ]
    },
    {
     "data": {
      "application/vnd.jupyter.widget-view+json": {
       "model_id": "4891ea33f65244bb98c84fbfec927c96",
       "version_major": 2,
       "version_minor": 0
      },
      "text/plain": [
       "Renderer(camera=OrthographicCamera(bottom=-5.0, children=(DirectionalLight(color='white', intensity=0.5, posit…"
      ]
     },
     "metadata": {},
     "output_type": "display_data"
    },
    {
     "data": {
      "text/plain": [
       "<fortecubeview.mol_viewer.MolViewer at 0x7fa4dedd1820>"
      ]
     },
     "execution_count": 9,
     "metadata": {},
     "output_type": "execute_result"
    }
   ],
   "source": [
    "naph = psi4.geometry(\"\"\"\n",
    "        pubchem:naphtalene\n",
    "\"\"\")\n",
    "\n",
    "vis.geom(molecule=naph)"
   ]
  },
  {
   "cell_type": "code",
   "execution_count": 10,
   "id": "8cb3fabb-4637-4f05-8751-e75f4b92b97c",
   "metadata": {},
   "outputs": [
    {
     "name": "stdout",
     "output_type": "stream",
     "text": [
      "\tSearching PubChem database for caffein (single best match returned)\n",
      "\tFound 1 result(s)\n"
     ]
    },
    {
     "data": {
      "application/vnd.jupyter.widget-view+json": {
       "model_id": "a31e46ca8b9b4f24a0744e17248a8d40",
       "version_major": 2,
       "version_minor": 0
      },
      "text/plain": [
       "Renderer(camera=OrthographicCamera(bottom=-5.0, children=(DirectionalLight(color='white', intensity=0.5, posit…"
      ]
     },
     "metadata": {},
     "output_type": "display_data"
    },
    {
     "data": {
      "text/plain": [
       "<fortecubeview.mol_viewer.MolViewer at 0x7fa4dedb2eb0>"
      ]
     },
     "execution_count": 10,
     "metadata": {},
     "output_type": "execute_result"
    }
   ],
   "source": [
    "caff = psi4.geometry(\"\"\"\n",
    "        pubchem:caffein\n",
    "\"\"\")\n",
    "\n",
    "vis.geom(molecule=caff)"
   ]
  },
  {
   "cell_type": "code",
   "execution_count": 11,
   "id": "cf5a4c77-f305-4b25-9324-08e23153d964",
   "metadata": {},
   "outputs": [
    {
     "name": "stdout",
     "output_type": "stream",
     "text": [
      "\tSearching PubChem database for asprin (single best match returned)\n",
      "\tFound 1 result(s)\n"
     ]
    },
    {
     "data": {
      "application/vnd.jupyter.widget-view+json": {
       "model_id": "6a4df14773fd4908bbfefc4b76bc10e0",
       "version_major": 2,
       "version_minor": 0
      },
      "text/plain": [
       "Renderer(camera=OrthographicCamera(bottom=-5.0, children=(DirectionalLight(color='white', intensity=0.5, posit…"
      ]
     },
     "metadata": {},
     "output_type": "display_data"
    },
    {
     "data": {
      "text/plain": [
       "<fortecubeview.mol_viewer.MolViewer at 0x7fa4de9d9250>"
      ]
     },
     "execution_count": 11,
     "metadata": {},
     "output_type": "execute_result"
    }
   ],
   "source": [
    "asp = psi4.geometry(\"\"\"\n",
    "        pubchem:asprin  \n",
    "\"\"\")\n",
    "\n",
    "vis.geom(molecule=asp)"
   ]
  }
 ],
 "metadata": {
  "kernelspec": {
   "display_name": "Python 3 (ipykernel)",
   "language": "python",
   "name": "python3"
  },
  "language_info": {
   "codemirror_mode": {
    "name": "ipython",
    "version": 3
   },
   "file_extension": ".py",
   "mimetype": "text/x-python",
   "name": "python",
   "nbconvert_exporter": "python",
   "pygments_lexer": "ipython3",
   "version": "3.9.16"
  }
 },
 "nbformat": 4,
 "nbformat_minor": 5
}
