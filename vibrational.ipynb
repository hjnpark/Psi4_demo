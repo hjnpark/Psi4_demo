{
 "cells": [
  {
   "cell_type": "code",
   "execution_count": null,
   "id": "66279296-9585-499e-a695-44b473cc7c5a",
   "metadata": {},
   "outputs": [],
   "source": [
    "import psi4\n",
    "import fortecubeview as vis\n",
    "import glob"
   ]
  },
  {
   "cell_type": "markdown",
   "id": "dffbe30c-4289-40d3-bc78-95387ad0aacb",
   "metadata": {},
   "source": [
    "## 1. Normal modes of vibration ([Psi4 manual](https://psicode.org/psi4manual/master/freq.html))\n",
    "### Let's analyze vibrational modes of a water molecule."
   ]
  },
  {
   "cell_type": "code",
   "execution_count": null,
   "id": "ea4d41da-f7a9-4ac8-b9a5-af5c39bc68ca",
   "metadata": {},
   "outputs": [],
   "source": [
    "psi4.set_memory('500 MB')\n",
    "\n",
    "h2o = psi4.geometry(\"\"\"\n",
    "        pubchem:water  \n",
    "\"\"\")\n",
    "\n",
    "vis.geom(molecule=h2o)\n"
   ]
  },
  {
   "cell_type": "markdown",
   "id": "843168e1-6a24-42a4-a41e-4e7c922c67a8",
   "metadata": {},
   "source": [
    "## We will first optimize the water molecule and analyze its vibrational modes."
   ]
  },
  {
   "cell_type": "code",
   "execution_count": null,
   "id": "9d85195e-6d9b-4267-b905-d960ea5c0745",
   "metadata": {},
   "outputs": [],
   "source": [
    "psi4.set_options({'basis': '6-31g',\n",
    "                  'reference': 'rhf'})\n",
    "psi4.core.set_output_file('vib.out')\n",
    "psi4.optimize('scf', molecule = h2o)\n",
    "\n",
    "psi4.set_options({\"normal_modes_write \":True,\n",
    "                  \"writer_file_label\":\"H2O\"})\n",
    "E, wfn = psi4.frequency('scf', molecule=h2o, return_wfn=True)\n",
    "\n",
    "freqs = [x for x in wfn.frequencies().np[:]]\n",
    "print(\"The three normal mode vibrational frequencies are %.2f cm-1, %.2f cm-1, and %.2f cm-1\" %(freqs[0], freqs[1], freqs[2]))\n"
   ]
  },
  {
   "cell_type": "markdown",
   "id": "9d89b8a1-2f53-4500-8934-604e658e2042",
   "metadata": {},
   "source": [
    "## Visualized vectors of the each vibrational mode"
   ]
  },
  {
   "cell_type": "code",
   "execution_count": null,
   "id": "26908a01-a28f-4faa-803b-386f1ee399ae",
   "metadata": {},
   "outputs": [],
   "source": [
    "vis.vib(glob.glob('H2O.*.molden_normal_modes')[-1])"
   ]
  }
 ],
 "metadata": {
  "kernelspec": {
   "display_name": "Python 3 (ipykernel)",
   "language": "python",
   "name": "python3"
  },
  "language_info": {
   "codemirror_mode": {
    "name": "ipython",
    "version": 3
   },
   "file_extension": ".py",
   "mimetype": "text/x-python",
   "name": "python",
   "nbconvert_exporter": "python",
   "pygments_lexer": "ipython3",
   "version": "3.9.16"
  }
 },
 "nbformat": 4,
 "nbformat_minor": 5
}
